{
 "cells": [
  {
   "cell_type": "raw",
   "metadata": {},
   "source": [
    "List1=[1,2,3,4,5,7,8]\n",
    "List2=[\"a\",\"b\",\"c\",\"d\",\"e\"]\n",
    "Convert in to Dictionary in one line code using list comprehension(Without Zip Method)"
   ]
  },
  {
   "cell_type": "code",
   "execution_count": 7,
   "metadata": {},
   "outputs": [
    {
     "name": "stdout",
     "output_type": "stream",
     "text": [
      "{1: 'Amazon', 2: 'Microsoft', 3: 'Google', 4: 'Alphabet', 5: 'Paypal'}\n"
     ]
    }
   ],
   "source": [
    "List1=[1,2,3,4,5,7,8]\n",
    "List2=[\"Amazon\",\"Microsoft\",\"Google\",\"Alphabet\",\"Paypal\"]\n",
    "result={}\n",
    "for key in List1:\n",
    "    for values in List2:\n",
    "        result[key]=values\n",
    "        List2.remove(values)\n",
    "        break\n",
    "print(str(result))"
   ]
  }
 ],
 "metadata": {
  "kernelspec": {
   "display_name": "Python 3",
   "language": "python",
   "name": "python3"
  },
  "language_info": {
   "codemirror_mode": {
    "name": "ipython",
    "version": 3
   },
   "file_extension": ".py",
   "mimetype": "text/x-python",
   "name": "python",
   "nbconvert_exporter": "python",
   "pygments_lexer": "ipython3",
   "version": "3.7.6"
  }
 },
 "nbformat": 4,
 "nbformat_minor": 4
}
